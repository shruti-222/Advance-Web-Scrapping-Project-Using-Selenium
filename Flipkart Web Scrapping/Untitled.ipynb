{
 "cells": [
  {
   "cell_type": "code",
   "execution_count": 9,
   "id": "49a90ee2",
   "metadata": {},
   "outputs": [],
   "source": [
    "import time\n",
    "from selenium import webdriver\n",
    "from selenium.webdriver.chrome.service import Service\n",
    "from selenium.webdriver.common.by import By"
   ]
  },
  {
   "cell_type": "code",
   "execution_count": 3,
   "id": "a35c3e84",
   "metadata": {},
   "outputs": [],
   "source": [
    "s = Service('C:/Users/HP/Desktop/chromedriver_win32.exe')\n",
    "driver = webdriver.Chrome(service= s)"
   ]
  },
  {
   "cell_type": "code",
   "execution_count": 4,
   "id": "83eb4adb",
   "metadata": {},
   "outputs": [],
   "source": [
    "driver.get('https://www.flipkart.com/all/~cs-zr9ty1tpfl/pr?sid=all&collection-tab-name=Premium+Laptops&ctx=eyJjYXJkQ29udGV4dCI6eyJhdHRyaWJ1dGVzIjp7InRpdGxlIjp7Im11bHRpVmFsdWVkQXR0cmlidXRlIjp7ImtleSI6InRpdGxlIiwiaW5mZXJlbmNlVHlwZSI6IlRJVExFIiwidmFsdWVzIjpbIlByZW1pdW0gTGFwdG9wcyJdLCJ2YWx1ZVR5cGUiOiJNVUxUSV9WQUxVRUQifX19fX0%3D&wid=27.productCard.PMU_V2_6')"
   ]
  },
  {
   "cell_type": "code",
   "execution_count": 5,
   "id": "0b3a2a31",
   "metadata": {},
   "outputs": [],
   "source": [
    "old_height = driver.execute_script('return document.body.scrollHeight')"
   ]
  },
  {
   "cell_type": "code",
   "execution_count": 12,
   "id": "7867cd59",
   "metadata": {},
   "outputs": [
    {
     "name": "stdout",
     "output_type": "stream",
     "text": [
      "1\n",
      "10364\n",
      "11080\n",
      "2\n",
      "11080\n",
      "11080\n"
     ]
    }
   ],
   "source": [
    "counter = 1\n",
    "while True:\n",
    "    driver.execute_script('window.scrollTo(0,document.body.scrollHeight)')\n",
    "    time.sleep(2)\n",
    "    new_height = driver.execute_script('return document.body.scrollHeight')\n",
    "    print(counter)\n",
    "    counter += 1\n",
    "    print(old_height)\n",
    "    print(new_height)\n",
    "    \n",
    "    if new_height == old_height:\n",
    "        break\n",
    "\n",
    "    old_height = new_height"
   ]
  },
  {
   "cell_type": "code",
   "execution_count": 13,
   "id": "8ba612c2",
   "metadata": {},
   "outputs": [],
   "source": [
    "html = driver.page_source\n",
    "with open('Flipkart1.html','w',encoding = 'utf-8') as f:\n",
    "     f.write(html)"
   ]
  },
  {
   "cell_type": "code",
   "execution_count": null,
   "id": "a5aa3cfa",
   "metadata": {},
   "outputs": [],
   "source": []
  }
 ],
 "metadata": {
  "kernelspec": {
   "display_name": "Python 3 (ipykernel)",
   "language": "python",
   "name": "python3"
  },
  "language_info": {
   "codemirror_mode": {
    "name": "ipython",
    "version": 3
   },
   "file_extension": ".py",
   "mimetype": "text/x-python",
   "name": "python",
   "nbconvert_exporter": "python",
   "pygments_lexer": "ipython3",
   "version": "3.9.12"
  }
 },
 "nbformat": 4,
 "nbformat_minor": 5
}
